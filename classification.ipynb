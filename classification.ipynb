{
 "cells": [
  {
   "cell_type": "code",
   "execution_count": null,
   "metadata": {
    "execution": {
     "iopub.execute_input": "2021-06-19T02:10:41.425197Z",
     "iopub.status.busy": "2021-06-19T02:10:41.424646Z",
     "iopub.status.idle": "2021-06-19T02:10:43.015891Z",
     "shell.execute_reply": "2021-06-19T02:10:43.016303Z"
    },
    "id": "dzLKpmZICaWN"
   },
   "outputs": [],
   "source": [
    "import tensorflow\n",
    "from tensorflow.keras.datasets import mnist\n",
    "from tensorflow.keras.models import Sequential\n",
    "from tensorflow.keras.layers import Dense\n",
    "from tensorflow.keras.utils import to_categorical\n"
   ]
  },
  {
   "cell_type": "code",
   "execution_count": null,
   "metadata": {
    "execution": {
     "iopub.execute_input": "2021-06-19T02:10:43.020609Z",
     "iopub.status.busy": "2021-06-19T02:10:43.020003Z",
     "iopub.status.idle": "2021-06-19T02:10:45.003038Z",
     "shell.execute_reply": "2021-06-19T02:10:45.002512Z"
    },
    "id": "7MqDQO0KCaWS"
   },
   "outputs": [],
   "source": [
    "fashion_mnist = tf.keras.datasets.fashion_mnist\n",
    "\n",
    "(X_train, Y_train), (X_test, Y_test) = fashion_mnist.load_data()\n",
    "\n",
    "class_names = ['Футболка', 'Штаны', 'Свитер', 'Одеваться', 'Пальто',\n",
    "               'Шлепки', 'Рубашка', 'Кроссы', 'Сумка', 'Ботинок']"
   ]
  },
  {
   "cell_type": "code",
   "execution_count": null,
   "metadata": {},
   "outputs": [],
   "source": [
    "learning_rate = 0.2\n",
    "epochs = 50\n",
    "batch_size = 500\n",
    "feature_vector_length = 28*28\n",
    "num_classes = 10\n"
   ]
  },
  {
   "cell_type": "code",
   "execution_count": null,
   "metadata": {},
   "outputs": [],
   "source": [
    "X_train = X_train.reshape(X_train.shape[0], feature_vector_length)\n",
    "X_test = X_test.reshape(X_test.shape[0], feature_vector_length)"
   ]
  },
  {
   "cell_type": "markdown",
   "metadata": {},
   "source": [
    "Делаем чб"
   ]
  },
  {
   "cell_type": "code",
   "execution_count": 248,
   "metadata": {},
   "outputs": [],
   "source": [
    "X_train = X_train.astype('float32')\n",
    "X_test = X_test.astype('float32')\n",
    "X_train /= 255\n",
    "X_test /= 255"
   ]
  },
  {
   "cell_type": "code",
   "execution_count": null,
   "metadata": {},
   "outputs": [
    {
     "name": "stdout",
     "output_type": "stream",
     "text": [
      "Epoch 1/50\n",
      "96/96 [==============================] - 1s 12ms/step - loss: 0.6565 - accuracy: 0.7751 - val_loss: 0.4858 - val_accuracy: 0.8292\n",
      "Epoch 2/50\n",
      "96/96 [==============================] - 1s 10ms/step - loss: 0.4467 - accuracy: 0.8450 - val_loss: 0.4280 - val_accuracy: 0.8496\n",
      "Epoch 3/50\n",
      "96/96 [==============================] - 1s 10ms/step - loss: 0.3953 - accuracy: 0.8625 - val_loss: 0.3934 - val_accuracy: 0.8637\n",
      "Epoch 4/50\n",
      "96/96 [==============================] - 1s 10ms/step - loss: 0.3660 - accuracy: 0.8721 - val_loss: 0.3682 - val_accuracy: 0.8723\n",
      "Epoch 5/50\n",
      "96/96 [==============================] - 1s 10ms/step - loss: 0.3487 - accuracy: 0.8757 - val_loss: 0.3601 - val_accuracy: 0.8724\n",
      "Epoch 6/50\n",
      "96/96 [==============================] - 1s 10ms/step - loss: 0.3270 - accuracy: 0.8827 - val_loss: 0.3892 - val_accuracy: 0.8582\n",
      "Epoch 7/50\n",
      "96/96 [==============================] - 1s 10ms/step - loss: 0.3198 - accuracy: 0.8848 - val_loss: 0.3382 - val_accuracy: 0.8799\n",
      "Epoch 8/50\n",
      "96/96 [==============================] - 1s 10ms/step - loss: 0.3020 - accuracy: 0.8919 - val_loss: 0.3439 - val_accuracy: 0.8795\n",
      "Epoch 9/50\n",
      "96/96 [==============================] - 1s 10ms/step - loss: 0.2960 - accuracy: 0.8923 - val_loss: 0.3439 - val_accuracy: 0.8772\n",
      "Epoch 10/50\n",
      "96/96 [==============================] - 1s 10ms/step - loss: 0.2757 - accuracy: 0.9011 - val_loss: 0.3265 - val_accuracy: 0.8832\n",
      "Epoch 11/50\n",
      "96/96 [==============================] - 1s 10ms/step - loss: 0.2681 - accuracy: 0.9043 - val_loss: 0.3187 - val_accuracy: 0.8850\n",
      "Epoch 12/50\n",
      "96/96 [==============================] - 1s 10ms/step - loss: 0.2603 - accuracy: 0.9052 - val_loss: 0.3439 - val_accuracy: 0.8771\n",
      "Epoch 13/50\n",
      "96/96 [==============================] - 1s 10ms/step - loss: 0.2532 - accuracy: 0.9080 - val_loss: 0.3100 - val_accuracy: 0.8888\n",
      "Epoch 14/50\n",
      "96/96 [==============================] - 1s 10ms/step - loss: 0.2488 - accuracy: 0.9087 - val_loss: 0.3344 - val_accuracy: 0.8784\n",
      "Epoch 15/50\n",
      "96/96 [==============================] - 1s 10ms/step - loss: 0.2370 - accuracy: 0.9143 - val_loss: 0.3066 - val_accuracy: 0.8876\n",
      "Epoch 16/50\n",
      "96/96 [==============================] - 1s 11ms/step - loss: 0.2312 - accuracy: 0.9165 - val_loss: 0.3270 - val_accuracy: 0.8839\n",
      "Epoch 17/50\n",
      "96/96 [==============================] - 1s 10ms/step - loss: 0.2240 - accuracy: 0.9194 - val_loss: 0.3055 - val_accuracy: 0.8917\n",
      "Epoch 18/50\n",
      "96/96 [==============================] - 1s 10ms/step - loss: 0.2180 - accuracy: 0.9225 - val_loss: 0.3067 - val_accuracy: 0.8898\n",
      "Epoch 19/50\n",
      "96/96 [==============================] - 1s 10ms/step - loss: 0.2166 - accuracy: 0.9227 - val_loss: 0.3161 - val_accuracy: 0.8909\n",
      "Epoch 20/50\n",
      "96/96 [==============================] - 1s 10ms/step - loss: 0.2094 - accuracy: 0.9250 - val_loss: 0.2991 - val_accuracy: 0.8938\n",
      "Epoch 21/50\n",
      "96/96 [==============================] - 1s 10ms/step - loss: 0.2012 - accuracy: 0.9281 - val_loss: 0.3029 - val_accuracy: 0.8942\n",
      "Epoch 22/50\n",
      "96/96 [==============================] - 1s 10ms/step - loss: 0.1970 - accuracy: 0.9293 - val_loss: 0.3035 - val_accuracy: 0.8927\n",
      "Epoch 23/50\n",
      "96/96 [==============================] - 1s 10ms/step - loss: 0.1903 - accuracy: 0.9327 - val_loss: 0.3075 - val_accuracy: 0.8955\n",
      "Epoch 24/50\n",
      "96/96 [==============================] - 1s 11ms/step - loss: 0.1884 - accuracy: 0.9328 - val_loss: 0.3037 - val_accuracy: 0.8937\n",
      "Epoch 25/50\n",
      "96/96 [==============================] - 1s 10ms/step - loss: 0.1875 - accuracy: 0.9321 - val_loss: 0.3241 - val_accuracy: 0.8874\n",
      "Epoch 26/50\n",
      "96/96 [==============================] - 1s 10ms/step - loss: 0.1780 - accuracy: 0.9366 - val_loss: 0.3051 - val_accuracy: 0.8967\n",
      "Epoch 27/50\n",
      "96/96 [==============================] - 1s 10ms/step - loss: 0.1747 - accuracy: 0.9393 - val_loss: 0.3283 - val_accuracy: 0.8857\n",
      "Epoch 28/50\n",
      "96/96 [==============================] - 1s 10ms/step - loss: 0.1759 - accuracy: 0.9375 - val_loss: 0.3107 - val_accuracy: 0.8930\n",
      "Epoch 29/50\n",
      "96/96 [==============================] - 1s 10ms/step - loss: 0.1657 - accuracy: 0.9418 - val_loss: 0.3085 - val_accuracy: 0.8963\n",
      "Epoch 30/50\n",
      "96/96 [==============================] - 1s 10ms/step - loss: 0.1629 - accuracy: 0.9423 - val_loss: 0.2991 - val_accuracy: 0.8971\n",
      "Epoch 31/50\n",
      "96/96 [==============================] - 1s 11ms/step - loss: 0.1598 - accuracy: 0.9436 - val_loss: 0.2989 - val_accuracy: 0.8973\n",
      "Epoch 32/50\n",
      "96/96 [==============================] - 1s 11ms/step - loss: 0.1509 - accuracy: 0.9475 - val_loss: 0.3037 - val_accuracy: 0.8963\n",
      "Epoch 33/50\n",
      "96/96 [==============================] - 1s 10ms/step - loss: 0.1469 - accuracy: 0.9499 - val_loss: 0.3009 - val_accuracy: 0.8991\n",
      "Epoch 34/50\n",
      "96/96 [==============================] - 1s 11ms/step - loss: 0.1461 - accuracy: 0.9492 - val_loss: 0.3033 - val_accuracy: 0.8991\n",
      "Epoch 35/50\n",
      "96/96 [==============================] - 1s 10ms/step - loss: 0.1411 - accuracy: 0.9515 - val_loss: 0.3094 - val_accuracy: 0.8978\n",
      "Epoch 36/50\n",
      "96/96 [==============================] - 1s 9ms/step - loss: 0.1414 - accuracy: 0.9514 - val_loss: 0.3091 - val_accuracy: 0.8970\n",
      "Epoch 37/50\n",
      "96/96 [==============================] - 1s 9ms/step - loss: 0.1389 - accuracy: 0.9509 - val_loss: 0.3102 - val_accuracy: 0.8953\n",
      "Epoch 38/50\n",
      "96/96 [==============================] - 1s 9ms/step - loss: 0.1344 - accuracy: 0.9528 - val_loss: 0.3084 - val_accuracy: 0.8953\n",
      "Epoch 39/50\n",
      "96/96 [==============================] - 1s 9ms/step - loss: 0.1278 - accuracy: 0.9560 - val_loss: 0.3098 - val_accuracy: 0.8988\n",
      "Epoch 40/50\n",
      "96/96 [==============================] - 1s 9ms/step - loss: 0.1233 - accuracy: 0.9582 - val_loss: 0.3154 - val_accuracy: 0.8997\n",
      "Epoch 41/50\n",
      "96/96 [==============================] - 1s 9ms/step - loss: 0.1205 - accuracy: 0.9588 - val_loss: 0.3181 - val_accuracy: 0.9002\n",
      "Epoch 42/50\n",
      "96/96 [==============================] - 1s 9ms/step - loss: 0.1256 - accuracy: 0.9569 - val_loss: 0.3172 - val_accuracy: 0.8978\n",
      "Epoch 43/50\n",
      "96/96 [==============================] - 1s 9ms/step - loss: 0.1234 - accuracy: 0.9565 - val_loss: 0.3080 - val_accuracy: 0.9008\n",
      "Epoch 44/50\n",
      "96/96 [==============================] - 1s 10ms/step - loss: 0.1159 - accuracy: 0.9603 - val_loss: 0.3292 - val_accuracy: 0.8923\n",
      "Epoch 45/50\n",
      "96/96 [==============================] - 1s 10ms/step - loss: 0.1117 - accuracy: 0.9619 - val_loss: 0.3196 - val_accuracy: 0.8995\n",
      "Epoch 46/50\n",
      "96/96 [==============================] - 1s 10ms/step - loss: 0.1086 - accuracy: 0.9634 - val_loss: 0.3295 - val_accuracy: 0.8954\n",
      "Epoch 47/50\n",
      "96/96 [==============================] - 1s 9ms/step - loss: 0.1051 - accuracy: 0.9640 - val_loss: 0.3208 - val_accuracy: 0.9003\n",
      "Epoch 48/50\n",
      "96/96 [==============================] - 1s 9ms/step - loss: 0.1052 - accuracy: 0.9644 - val_loss: 0.3225 - val_accuracy: 0.8992\n",
      "Epoch 49/50\n",
      "96/96 [==============================] - 1s 9ms/step - loss: 0.1040 - accuracy: 0.9638 - val_loss: 0.3460 - val_accuracy: 0.8931\n",
      "Epoch 50/50\n",
      "96/96 [==============================] - 1s 9ms/step - loss: 0.0978 - accuracy: 0.9674 - val_loss: 0.3329 - val_accuracy: 0.8968\n"
     ]
    }
   ],
   "source": [
    "\n",
    "Y_train = to_categorical(Y_train, num_classes)\n",
    "Y_test = to_categorical(Y_test, num_classes)\n",
    "\n",
    "input_shape = (feature_vector_length,)\n",
    "\n",
    "# Create the model\n",
    "model = Sequential()\n",
    "model.add(Dense(350, input_shape=input_shape, activation='relu'))\n",
    "model.add(Dense(num_classes, activation=tensorflow.keras.activations.sigmoid))\n",
    "\n",
    "# Configure the model and start training\n",
    "model.compile(loss='categorical_crossentropy', optimizer='adam', metrics=['accuracy'])\n",
    "stats = model.fit(X_train, Y_train, epochs=epochs, batch_size=batch_size, verbose=1, validation_split=learning_rate)\n"
   ]
  },
  {
   "cell_type": "code",
   "execution_count": null,
   "metadata": {},
   "outputs": [
    {
     "data": {
      "image/png": "[encoded data removed]",
      "text/plain": [
       "<Figure size 432x288 with 1 Axes>"
      ]
     },
     "metadata": {
      "needs_background": "light"
     },
     "output_type": "display_data"
    }
   ],
   "source": [
    "\n",
    "loss = stats.history['loss']\n",
    "acc = stats.history['accuracy']\n",
    "y_vals = np.arange(epochs)\n",
    "plt.plot(y_vals,loss, label=\"Потери\")\n",
    "plt.plot(y_vals, acc,label=\"Точность\")\n",
    "plt.legend(loc=\"lower left\")\n",
    "plt.ylim(0, 1)\n",
    "plt.xlim(0, epochs)\n",
    "plt.xlabel(\"Эпоха\")\n",
    "plt.ylabel(\"P\")\n",
    "plt.show()"
   ]
  }
 ],
 "metadata": {
  "colab": {
   "collapsed_sections": [],
   "name": "classification.ipynb",
   "toc_visible": true
  },
  "kernelspec": {
   "display_name": "Python 3",
   "name": "python3"
  },
  "language_info": {
   "codemirror_mode": {
    "name": "ipython",
    "version": 3
   },
   "file_extension": ".py",
   "mimetype": "text/x-python",
   "name": "python",
   "nbconvert_exporter": "python",
   "pygments_lexer": "ipython3",
   "version": "3.7.7"
  }
 },
 "nbformat": 4,
 "nbformat_minor": 0
}
